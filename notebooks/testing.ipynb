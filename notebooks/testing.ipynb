{
 "cells": [
  {
   "cell_type": "code",
   "execution_count": 2,
   "id": "c2eb0602-8641-42c7-a5f2-9ab3a415a1c3",
   "metadata": {},
   "outputs": [],
   "source": [
    "import sys\n",
    "sys.path.append('/app')"
   ]
  },
  {
   "cell_type": "code",
   "execution_count": 2,
   "id": "1ddbb9cf-5206-469e-bbd4-17b2183d5986",
   "metadata": {},
   "outputs": [
    {
     "ename": "ModuleNotFoundError",
     "evalue": "No module named 'ingest_data'",
     "output_type": "error",
     "traceback": [
      "\u001b[31m---------------------------------------------------------------------------\u001b[39m",
      "\u001b[31mModuleNotFoundError\u001b[39m                       Traceback (most recent call last)",
      "\u001b[36mCell\u001b[39m\u001b[36m \u001b[39m\u001b[32mIn[2]\u001b[39m\u001b[32m, line 1\u001b[39m\n\u001b[32m----> \u001b[39m\u001b[32m1\u001b[39m \u001b[38;5;28;01mfrom\u001b[39;00m\u001b[38;5;250m \u001b[39m\u001b[34;01mingest_data\u001b[39;00m\u001b[38;5;250m \u001b[39m\u001b[38;5;28;01mimport\u001b[39;00m fetch_and_store_prices\n\u001b[32m      3\u001b[39m fetch_and_store_prices()\n",
      "\u001b[31mModuleNotFoundError\u001b[39m: No module named 'ingest_data'"
     ]
    }
   ],
   "source": [
    "from ingest_data import fetch_and_store_prices\n",
    "\n",
    "fetch_and_store_prices()"
   ]
  },
  {
   "cell_type": "code",
   "execution_count": 7,
   "id": "93cdd40a-756a-42a8-9bcc-ebdb17ffa1a0",
   "metadata": {},
   "outputs": [
    {
     "data": {
      "text/html": [
       "<div>\n",
       "<style scoped>\n",
       "    .dataframe tbody tr th:only-of-type {\n",
       "        vertical-align: middle;\n",
       "    }\n",
       "\n",
       "    .dataframe tbody tr th {\n",
       "        vertical-align: top;\n",
       "    }\n",
       "\n",
       "    .dataframe thead th {\n",
       "        text-align: right;\n",
       "    }\n",
       "</style>\n",
       "<table border=\"1\" class=\"dataframe\">\n",
       "  <thead>\n",
       "    <tr style=\"text-align: right;\">\n",
       "      <th></th>\n",
       "      <th>id</th>\n",
       "      <th>symbol</th>\n",
       "      <th>name</th>\n",
       "      <th>price_usd</th>\n",
       "      <th>timestamp</th>\n",
       "    </tr>\n",
       "  </thead>\n",
       "  <tbody>\n",
       "    <tr>\n",
       "      <th>0</th>\n",
       "      <td>10</td>\n",
       "      <td>TRX</td>\n",
       "      <td>TRON</td>\n",
       "      <td>0.237911</td>\n",
       "      <td>2025-04-05 20:13:10.889511</td>\n",
       "    </tr>\n",
       "    <tr>\n",
       "      <th>1</th>\n",
       "      <td>9</td>\n",
       "      <td>ADA</td>\n",
       "      <td>Cardano</td>\n",
       "      <td>0.647468</td>\n",
       "      <td>2025-04-05 20:13:10.889510</td>\n",
       "    </tr>\n",
       "    <tr>\n",
       "      <th>2</th>\n",
       "      <td>8</td>\n",
       "      <td>DOGE</td>\n",
       "      <td>Dogecoin</td>\n",
       "      <td>0.167854</td>\n",
       "      <td>2025-04-05 20:13:10.889509</td>\n",
       "    </tr>\n",
       "    <tr>\n",
       "      <th>3</th>\n",
       "      <td>7</td>\n",
       "      <td>USDC</td>\n",
       "      <td>USDC</td>\n",
       "      <td>0.999919</td>\n",
       "      <td>2025-04-05 20:13:10.889506</td>\n",
       "    </tr>\n",
       "    <tr>\n",
       "      <th>4</th>\n",
       "      <td>6</td>\n",
       "      <td>SOL</td>\n",
       "      <td>Solana</td>\n",
       "      <td>118.900000</td>\n",
       "      <td>2025-04-05 20:13:10.889505</td>\n",
       "    </tr>\n",
       "  </tbody>\n",
       "</table>\n",
       "</div>"
      ],
      "text/plain": [
       "   id symbol      name   price_usd                  timestamp\n",
       "0  10    TRX      TRON    0.237911 2025-04-05 20:13:10.889511\n",
       "1   9    ADA   Cardano    0.647468 2025-04-05 20:13:10.889510\n",
       "2   8   DOGE  Dogecoin    0.167854 2025-04-05 20:13:10.889509\n",
       "3   7   USDC      USDC    0.999919 2025-04-05 20:13:10.889506\n",
       "4   6    SOL    Solana  118.900000 2025-04-05 20:13:10.889505"
      ]
     },
     "execution_count": 7,
     "metadata": {},
     "output_type": "execute_result"
    }
   ],
   "source": [
    "import pandas as pd\n",
    "from db_utils import get_engine\n",
    "\n",
    "engine = get_engine()\n",
    "\n",
    "df = pd.read_sql(\"SELECT * FROM crypto_prices ORDER BY timestamp DESC LIMIT 20\", con=engine)\n",
    "df.head()"
   ]
  },
  {
   "cell_type": "code",
   "execution_count": 3,
   "id": "1d0e1450-0e0d-45ee-bfbf-416a5cfc8447",
   "metadata": {},
   "outputs": [
    {
     "name": "stdout",
     "output_type": "stream",
     "text": [
      "Inserted 3 sentiment scores into sentiment_data.\n"
     ]
    }
   ],
   "source": [
    "import sys\n",
    "sys.path.append('/app')\n",
    "\n",
    "from sentiment import analyze_and_store\n",
    "analyze_and_store([\n",
    "    {\"source\": \"reddit\", \"coin\": \"BTC\", \"text\": \"Bitcoin is exploding today 🚀\"},\n",
    "    {\"source\": \"reddit\", \"coin\": \"ETH\", \"text\": \"Ethereum is such a scam...\"},\n",
    "    {\"source\": \"twitter\", \"coin\": \"DOGE\", \"text\": \"Dogecoin to the moon!!! #HODL\"},\n",
    "])\n"
   ]
  },
  {
   "cell_type": "code",
   "execution_count": 4,
   "id": "bd3f98a0-7381-4cc4-9424-5fed4918a6f3",
   "metadata": {},
   "outputs": [
    {
     "name": "stdout",
     "output_type": "stream",
     "text": [
      "{'source': 'reddit', 'coin': 'UNKNOWN', 'text': 'Trade Without Trade-Offs on Kraken Pro! + (Moons Giveaway)', 'timestamp': datetime.datetime(2025, 4, 4, 14, 5, 29)}\n",
      "{'source': 'reddit', 'coin': 'UNKNOWN', 'text': 'Daily Crypto Discussion - April 7, 2025 (GMT+0)', 'timestamp': datetime.datetime(2025, 4, 7, 0, 1, 15)}\n",
      "{'source': 'reddit', 'coin': 'UNKNOWN', 'text': 'Over $200 million has been liquidated from the crypto market in the last hour.', 'timestamp': datetime.datetime(2025, 4, 6, 19, 53, 25)}\n",
      "{'source': 'reddit', 'coin': 'UNKNOWN', 'text': \"Well folks, it's over see you next crypto bull run\", 'timestamp': datetime.datetime(2025, 4, 6, 21, 32, 25)}\n",
      "{'source': 'reddit', 'coin': 'UNKNOWN', 'text': 'Bitcoin price drops below $80K as stocks face 1987 Black Monday rerun', 'timestamp': datetime.datetime(2025, 4, 6, 18, 44, 51)}\n"
     ]
    }
   ],
   "source": [
    "from reddit_ingest import get_reddit_posts\n",
    "posts = get_reddit_posts(limit=5)\n",
    "\n",
    "for post in posts:\n",
    "    print(post)"
   ]
  },
  {
   "cell_type": "code",
   "execution_count": 3,
   "id": "ab33d2ed-cddd-4130-9e05-cf33593942a5",
   "metadata": {},
   "outputs": [
    {
     "name": "stdout",
     "output_type": "stream",
     "text": [
      "Fetching BTC...\n",
      "Fetching ETH...\n",
      "Fetching DOGE...\n"
     ]
    },
    {
     "ename": "ProgrammingError",
     "evalue": "(psycopg2.errors.UndefinedTable) relation \"crypto_prices\" does not exist\nLINE 1: INSERT INTO crypto_prices (price_usd, timestamp) VALUES (830...\n                    ^\n\n[SQL: INSERT INTO crypto_prices (price_usd, timestamp) VALUES (%(price_usd__0)s, %(timestamp__0)s), (%(price_usd__1)s, %(timestamp__1)s), (%(price_usd__2)s, %(timestamp__2)s), (%(price_usd__3)s, %(timestamp__3)s), (%(price_usd__4)s, %(timestamp__4)s), (%(p ... 8682 characters truncated ... imestamp__216)s), (%(price_usd__217)s, %(timestamp__217)s), (%(price_usd__218)s, %(timestamp__218)s)]\n[parameters: {'timestamp__0': datetime.datetime(2025, 4, 4, 1, 4, 43, 728000), 'price_usd__0': 83029.72559074209, 'timestamp__1': datetime.datetime(2025, 4, 4, 2, 4, 47, 660000), 'price_usd__1': 82676.67638736672, 'timestamp__2': datetime.datetime(2025, 4, 4, 3, 4, 33, 317000), 'price_usd__2': 82870.73001816859, 'timestamp__3': datetime.datetime(2025, 4, 4, 4, 4, 43, 226000), 'price_usd__3': 82793.26810143121, 'timestamp__4': datetime.datetime(2025, 4, 4, 5, 4, 52, 661000), 'price_usd__4': 82709.74394735025, 'timestamp__5': datetime.datetime(2025, 4, 4, 6, 8, 4, 340000), 'price_usd__5': 83155.70194321594, 'timestamp__6': datetime.datetime(2025, 4, 4, 7, 4, 33, 552000), 'price_usd__6': 83064.77766424145, 'timestamp__7': datetime.datetime(2025, 4, 4, 8, 4, 50, 551000), 'price_usd__7': 84003.03159736587, 'timestamp__8': datetime.datetime(2025, 4, 4, 9, 4, 49, 47000), 'price_usd__8': 84375.94429798229, 'timestamp__9': datetime.datetime(2025, 4, 4, 10, 4, 35, 357000), 'price_usd__9': 84613.64673947358, 'timestamp__10': datetime.datetime(2025, 4, 4, 11, 4, 36, 527000), 'price_usd__10': 82548.3231829159, 'timestamp__11': datetime.datetime(2025, 4, 4, 12, 2, 51, 787000), 'price_usd__11': 82701.99933626983, 'timestamp__12': datetime.datetime(2025, 4, 4, 13, 2, 3, 133000), 'price_usd__12': 82809.93939073119, 'timestamp__13': datetime.datetime(2025, 4, 4, 14, 9, 32, 286000), 'price_usd__13': 83238.43488678202, 'timestamp__14': datetime.datetime(2025, 4, 4, 15, 9, 36, 258000), 'price_usd__14': 83111.34435575195, 'timestamp__15': datetime.datetime(2025, 4, 4, 16, 5, 0, 114000), 'price_usd__15': 82881.13400156828, 'timestamp__16': datetime.datetime(2025, 4, 4, 17, 4, 54, 284000), 'price_usd__16': 83345.06970919853, 'timestamp__17': datetime.datetime(2025, 4, 4, 18, 3, 53, 933000), 'price_usd__17': 84430.20296834389, 'timestamp__18': datetime.datetime(2025, 4, 4, 19, 4, 58, 705000), 'price_usd__18': 83881.50017713505, 'timestamp__19': datetime.datetime(2025, 4, 4, 20, 4, 40, 257000), 'price_usd__19': 84003.03688086948, 'timestamp__20': datetime.datetime(2025, 4, 4, 21, 7, 1, 180000), 'price_usd__20': 83997.83057459719, 'timestamp__21': datetime.datetime(2025, 4, 4, 22, 4, 52, 147000), 'price_usd__21': 84162.25073278768, 'timestamp__22': datetime.datetime(2025, 4, 4, 23, 4, 43, 435000), 'price_usd__22': 84032.71900547225, 'timestamp__23': datetime.datetime(2025, 4, 5, 0, 6, 50, 663000), 'price_usd__23': 83733.5293123474, 'timestamp__24': datetime.datetime(2025, 4, 5, 1, 4, 30, 834000), 'price_usd__24': 83784.56595678756 ... 338 parameters truncated ... 'timestamp__194': datetime.datetime(2025, 4, 6, 1, 4, 54, 194000), 'price_usd__194': 0.16925401013754543, 'timestamp__195': datetime.datetime(2025, 4, 6, 2, 4, 53, 818000), 'price_usd__195': 0.1686775276424901, 'timestamp__196': datetime.datetime(2025, 4, 6, 3, 1, 56, 433000), 'price_usd__196': 0.16752190559963703, 'timestamp__197': datetime.datetime(2025, 4, 6, 4, 4, 48, 628000), 'price_usd__197': 0.16768421052676932, 'timestamp__198': datetime.datetime(2025, 4, 6, 5, 4, 39, 916000), 'price_usd__198': 0.16744460311247122, 'timestamp__199': datetime.datetime(2025, 4, 6, 6, 4, 54, 640000), 'price_usd__199': 0.16773637883171222, 'timestamp__200': datetime.datetime(2025, 4, 6, 7, 4, 43, 912000), 'price_usd__200': 0.16619159481820758, 'timestamp__201': datetime.datetime(2025, 4, 6, 8, 4, 44, 23000), 'price_usd__201': 0.16495893579565452, 'timestamp__202': datetime.datetime(2025, 4, 6, 9, 4, 57, 498000), 'price_usd__202': 0.16536109835362833, 'timestamp__203': datetime.datetime(2025, 4, 6, 10, 4, 50, 570000), 'price_usd__203': 0.1647426878082025, 'timestamp__204': datetime.datetime(2025, 4, 6, 11, 2, 17, 697000), 'price_usd__204': 0.16426796082208053, 'timestamp__205': datetime.datetime(2025, 4, 6, 12, 4, 31, 691000), 'price_usd__205': 0.16431674948060584, 'timestamp__206': datetime.datetime(2025, 4, 6, 13, 4, 41, 569000), 'price_usd__206': 0.16289516273791665, 'timestamp__207': datetime.datetime(2025, 4, 6, 14, 4, 52, 643000), 'price_usd__207': 0.16017563569102958, 'timestamp__208': datetime.datetime(2025, 4, 6, 15, 4, 38, 742000), 'price_usd__208': 0.16227578886478997, 'timestamp__209': datetime.datetime(2025, 4, 6, 16, 4, 41, 727000), 'price_usd__209': 0.16207226065447983, 'timestamp__210': datetime.datetime(2025, 4, 6, 17, 4, 56, 739000), 'price_usd__210': 0.1605511127726386, 'timestamp__211': datetime.datetime(2025, 4, 6, 18, 9, 47, 412000), 'price_usd__211': 0.15640621578660419, 'timestamp__212': datetime.datetime(2025, 4, 6, 19, 9, 34, 411000), 'price_usd__212': 0.15207910537598826, 'timestamp__213': datetime.datetime(2025, 4, 6, 20, 8, 8, 533000), 'price_usd__213': 0.152801821682788, 'timestamp__214': datetime.datetime(2025, 4, 6, 21, 4, 39, 191000), 'price_usd__214': 0.1499289139830785, 'timestamp__215': datetime.datetime(2025, 4, 6, 22, 4, 55, 754000), 'price_usd__215': 0.15052912789931022, 'timestamp__216': datetime.datetime(2025, 4, 6, 23, 9, 23), 'price_usd__216': 0.14813517280019836, 'timestamp__217': datetime.datetime(2025, 4, 7, 0, 5, 0, 618000), 'price_usd__217': 0.1491294911827007, 'timestamp__218': datetime.datetime(2025, 4, 7, 0, 38, 2), 'price_usd__218': 0.14765226451922758}]\n(Background on this error at: https://sqlalche.me/e/20/f405)",
     "output_type": "error",
     "traceback": [
      "\u001b[31m---------------------------------------------------------------------------\u001b[39m",
      "\u001b[31mUndefinedTable\u001b[39m                            Traceback (most recent call last)",
      "\u001b[36mFile \u001b[39m\u001b[32m/usr/local/lib/python3.11/site-packages/sqlalchemy/engine/base.py:2115\u001b[39m, in \u001b[36mConnection._exec_insertmany_context\u001b[39m\u001b[34m(self, dialect, context)\u001b[39m\n\u001b[32m   2114\u001b[39m     \u001b[38;5;28;01melse\u001b[39;00m:\n\u001b[32m-> \u001b[39m\u001b[32m2115\u001b[39m         \u001b[43mdialect\u001b[49m\u001b[43m.\u001b[49m\u001b[43mdo_execute\u001b[49m\u001b[43m(\u001b[49m\n\u001b[32m   2116\u001b[39m \u001b[43m            \u001b[49m\u001b[43mcursor\u001b[49m\u001b[43m,\u001b[49m\n\u001b[32m   2117\u001b[39m \u001b[43m            \u001b[49m\u001b[43msub_stmt\u001b[49m\u001b[43m,\u001b[49m\n\u001b[32m   2118\u001b[39m \u001b[43m            \u001b[49m\u001b[43msub_params\u001b[49m\u001b[43m,\u001b[49m\n\u001b[32m   2119\u001b[39m \u001b[43m            \u001b[49m\u001b[43mcontext\u001b[49m\u001b[43m,\u001b[49m\n\u001b[32m   2120\u001b[39m \u001b[43m        \u001b[49m\u001b[43m)\u001b[49m\n\u001b[32m   2122\u001b[39m \u001b[38;5;28;01mexcept\u001b[39;00m \u001b[38;5;167;01mBaseException\u001b[39;00m \u001b[38;5;28;01mas\u001b[39;00m e:\n",
      "\u001b[36mFile \u001b[39m\u001b[32m/usr/local/lib/python3.11/site-packages/sqlalchemy/engine/default.py:945\u001b[39m, in \u001b[36mDefaultDialect.do_execute\u001b[39m\u001b[34m(self, cursor, statement, parameters, context)\u001b[39m\n\u001b[32m    944\u001b[39m \u001b[38;5;28;01mdef\u001b[39;00m\u001b[38;5;250m \u001b[39m\u001b[34mdo_execute\u001b[39m(\u001b[38;5;28mself\u001b[39m, cursor, statement, parameters, context=\u001b[38;5;28;01mNone\u001b[39;00m):\n\u001b[32m--> \u001b[39m\u001b[32m945\u001b[39m     \u001b[43mcursor\u001b[49m\u001b[43m.\u001b[49m\u001b[43mexecute\u001b[49m\u001b[43m(\u001b[49m\u001b[43mstatement\u001b[49m\u001b[43m,\u001b[49m\u001b[43m \u001b[49m\u001b[43mparameters\u001b[49m\u001b[43m)\u001b[49m\n",
      "\u001b[31mUndefinedTable\u001b[39m: relation \"crypto_prices\" does not exist\nLINE 1: INSERT INTO crypto_prices (price_usd, timestamp) VALUES (830...\n                    ^\n",
      "\nThe above exception was the direct cause of the following exception:\n",
      "\u001b[31mProgrammingError\u001b[39m                          Traceback (most recent call last)",
      "\u001b[36mCell\u001b[39m\u001b[36m \u001b[39m\u001b[32mIn[3]\u001b[39m\u001b[32m, line 2\u001b[39m\n\u001b[32m      1\u001b[39m \u001b[38;5;28;01mfrom\u001b[39;00m\u001b[38;5;250m \u001b[39m\u001b[34;01mingest_data\u001b[39;00m\u001b[38;5;250m \u001b[39m\u001b[38;5;28;01mimport\u001b[39;00m fetch_and_store_all\n\u001b[32m----> \u001b[39m\u001b[32m2\u001b[39m \u001b[43mfetch_and_store_all\u001b[49m\u001b[43m(\u001b[49m\u001b[43m)\u001b[49m\n",
      "\u001b[36mFile \u001b[39m\u001b[32m/app/ingest_data.py:59\u001b[39m, in \u001b[36mfetch_and_store_all\u001b[39m\u001b[34m()\u001b[39m\n\u001b[32m     57\u001b[39m     \u001b[38;5;28mprint\u001b[39m(\u001b[33mf\u001b[39m\u001b[33m\"\u001b[39m\u001b[33mFetching \u001b[39m\u001b[38;5;132;01m{\u001b[39;00mcoin_symbol\u001b[38;5;132;01m}\u001b[39;00m\u001b[33m...\u001b[39m\u001b[33m\"\u001b[39m)\n\u001b[32m     58\u001b[39m     all_rows.extend(fetch_price_history(coin_id, coin_symbol))\n\u001b[32m---> \u001b[39m\u001b[32m59\u001b[39m \u001b[43mstore_prices\u001b[49m\u001b[43m(\u001b[49m\u001b[43mall_rows\u001b[49m\u001b[43m)\u001b[49m\n\u001b[32m     60\u001b[39m \u001b[38;5;28mprint\u001b[39m(\u001b[33mf\u001b[39m\u001b[33m\"\u001b[39m\u001b[33mInserted \u001b[39m\u001b[38;5;132;01m{\u001b[39;00m\u001b[38;5;28mlen\u001b[39m(all_rows)\u001b[38;5;132;01m}\u001b[39;00m\u001b[33m rows into crypto_prices.\u001b[39m\u001b[33m\"\u001b[39m)\n",
      "\u001b[36mFile \u001b[39m\u001b[32m/app/ingest_data.py:52\u001b[39m, in \u001b[36mstore_prices\u001b[39m\u001b[34m(rows)\u001b[39m\n\u001b[32m     50\u001b[39m engine = get_engine()\n\u001b[32m     51\u001b[39m \u001b[38;5;28;01mwith\u001b[39;00m engine.begin() \u001b[38;5;28;01mas\u001b[39;00m conn:\n\u001b[32m---> \u001b[39m\u001b[32m52\u001b[39m     \u001b[43mconn\u001b[49m\u001b[43m.\u001b[49m\u001b[43mexecute\u001b[49m\u001b[43m(\u001b[49m\u001b[43minsert\u001b[49m\u001b[43m(\u001b[49m\u001b[43mcrypto_prices\u001b[49m\u001b[43m)\u001b[49m\u001b[43m,\u001b[49m\u001b[43m \u001b[49m\u001b[43mrows\u001b[49m\u001b[43m)\u001b[49m\n",
      "\u001b[36mFile \u001b[39m\u001b[32m/usr/local/lib/python3.11/site-packages/sqlalchemy/engine/base.py:1416\u001b[39m, in \u001b[36mConnection.execute\u001b[39m\u001b[34m(self, statement, parameters, execution_options)\u001b[39m\n\u001b[32m   1414\u001b[39m     \u001b[38;5;28;01mraise\u001b[39;00m exc.ObjectNotExecutableError(statement) \u001b[38;5;28;01mfrom\u001b[39;00m\u001b[38;5;250m \u001b[39m\u001b[34;01merr\u001b[39;00m\n\u001b[32m   1415\u001b[39m \u001b[38;5;28;01melse\u001b[39;00m:\n\u001b[32m-> \u001b[39m\u001b[32m1416\u001b[39m     \u001b[38;5;28;01mreturn\u001b[39;00m \u001b[43mmeth\u001b[49m\u001b[43m(\u001b[49m\n\u001b[32m   1417\u001b[39m \u001b[43m        \u001b[49m\u001b[38;5;28;43mself\u001b[39;49m\u001b[43m,\u001b[49m\n\u001b[32m   1418\u001b[39m \u001b[43m        \u001b[49m\u001b[43mdistilled_parameters\u001b[49m\u001b[43m,\u001b[49m\n\u001b[32m   1419\u001b[39m \u001b[43m        \u001b[49m\u001b[43mexecution_options\u001b[49m\u001b[43m \u001b[49m\u001b[38;5;129;43;01mor\u001b[39;49;00m\u001b[43m \u001b[49m\u001b[43mNO_OPTIONS\u001b[49m\u001b[43m,\u001b[49m\n\u001b[32m   1420\u001b[39m \u001b[43m    \u001b[49m\u001b[43m)\u001b[49m\n",
      "\u001b[36mFile \u001b[39m\u001b[32m/usr/local/lib/python3.11/site-packages/sqlalchemy/sql/elements.py:523\u001b[39m, in \u001b[36mClauseElement._execute_on_connection\u001b[39m\u001b[34m(self, connection, distilled_params, execution_options)\u001b[39m\n\u001b[32m    521\u001b[39m     \u001b[38;5;28;01mif\u001b[39;00m TYPE_CHECKING:\n\u001b[32m    522\u001b[39m         \u001b[38;5;28;01massert\u001b[39;00m \u001b[38;5;28misinstance\u001b[39m(\u001b[38;5;28mself\u001b[39m, Executable)\n\u001b[32m--> \u001b[39m\u001b[32m523\u001b[39m     \u001b[38;5;28;01mreturn\u001b[39;00m \u001b[43mconnection\u001b[49m\u001b[43m.\u001b[49m\u001b[43m_execute_clauseelement\u001b[49m\u001b[43m(\u001b[49m\n\u001b[32m    524\u001b[39m \u001b[43m        \u001b[49m\u001b[38;5;28;43mself\u001b[39;49m\u001b[43m,\u001b[49m\u001b[43m \u001b[49m\u001b[43mdistilled_params\u001b[49m\u001b[43m,\u001b[49m\u001b[43m \u001b[49m\u001b[43mexecution_options\u001b[49m\n\u001b[32m    525\u001b[39m \u001b[43m    \u001b[49m\u001b[43m)\u001b[49m\n\u001b[32m    526\u001b[39m \u001b[38;5;28;01melse\u001b[39;00m:\n\u001b[32m    527\u001b[39m     \u001b[38;5;28;01mraise\u001b[39;00m exc.ObjectNotExecutableError(\u001b[38;5;28mself\u001b[39m)\n",
      "\u001b[36mFile \u001b[39m\u001b[32m/usr/local/lib/python3.11/site-packages/sqlalchemy/engine/base.py:1638\u001b[39m, in \u001b[36mConnection._execute_clauseelement\u001b[39m\u001b[34m(self, elem, distilled_parameters, execution_options)\u001b[39m\n\u001b[32m   1626\u001b[39m compiled_cache: Optional[CompiledCacheType] = execution_options.get(\n\u001b[32m   1627\u001b[39m     \u001b[33m\"\u001b[39m\u001b[33mcompiled_cache\u001b[39m\u001b[33m\"\u001b[39m, \u001b[38;5;28mself\u001b[39m.engine._compiled_cache\n\u001b[32m   1628\u001b[39m )\n\u001b[32m   1630\u001b[39m compiled_sql, extracted_params, cache_hit = elem._compile_w_cache(\n\u001b[32m   1631\u001b[39m     dialect=dialect,\n\u001b[32m   1632\u001b[39m     compiled_cache=compiled_cache,\n\u001b[32m   (...)\u001b[39m\u001b[32m   1636\u001b[39m     linting=\u001b[38;5;28mself\u001b[39m.dialect.compiler_linting | compiler.WARN_LINTING,\n\u001b[32m   1637\u001b[39m )\n\u001b[32m-> \u001b[39m\u001b[32m1638\u001b[39m ret = \u001b[38;5;28;43mself\u001b[39;49m\u001b[43m.\u001b[49m\u001b[43m_execute_context\u001b[49m\u001b[43m(\u001b[49m\n\u001b[32m   1639\u001b[39m \u001b[43m    \u001b[49m\u001b[43mdialect\u001b[49m\u001b[43m,\u001b[49m\n\u001b[32m   1640\u001b[39m \u001b[43m    \u001b[49m\u001b[43mdialect\u001b[49m\u001b[43m.\u001b[49m\u001b[43mexecution_ctx_cls\u001b[49m\u001b[43m.\u001b[49m\u001b[43m_init_compiled\u001b[49m\u001b[43m,\u001b[49m\n\u001b[32m   1641\u001b[39m \u001b[43m    \u001b[49m\u001b[43mcompiled_sql\u001b[49m\u001b[43m,\u001b[49m\n\u001b[32m   1642\u001b[39m \u001b[43m    \u001b[49m\u001b[43mdistilled_parameters\u001b[49m\u001b[43m,\u001b[49m\n\u001b[32m   1643\u001b[39m \u001b[43m    \u001b[49m\u001b[43mexecution_options\u001b[49m\u001b[43m,\u001b[49m\n\u001b[32m   1644\u001b[39m \u001b[43m    \u001b[49m\u001b[43mcompiled_sql\u001b[49m\u001b[43m,\u001b[49m\n\u001b[32m   1645\u001b[39m \u001b[43m    \u001b[49m\u001b[43mdistilled_parameters\u001b[49m\u001b[43m,\u001b[49m\n\u001b[32m   1646\u001b[39m \u001b[43m    \u001b[49m\u001b[43melem\u001b[49m\u001b[43m,\u001b[49m\n\u001b[32m   1647\u001b[39m \u001b[43m    \u001b[49m\u001b[43mextracted_params\u001b[49m\u001b[43m,\u001b[49m\n\u001b[32m   1648\u001b[39m \u001b[43m    \u001b[49m\u001b[43mcache_hit\u001b[49m\u001b[43m=\u001b[49m\u001b[43mcache_hit\u001b[49m\u001b[43m,\u001b[49m\n\u001b[32m   1649\u001b[39m \u001b[43m\u001b[49m\u001b[43m)\u001b[49m\n\u001b[32m   1650\u001b[39m \u001b[38;5;28;01mif\u001b[39;00m has_events:\n\u001b[32m   1651\u001b[39m     \u001b[38;5;28mself\u001b[39m.dispatch.after_execute(\n\u001b[32m   1652\u001b[39m         \u001b[38;5;28mself\u001b[39m,\n\u001b[32m   1653\u001b[39m         elem,\n\u001b[32m   (...)\u001b[39m\u001b[32m   1657\u001b[39m         ret,\n\u001b[32m   1658\u001b[39m     )\n",
      "\u001b[36mFile \u001b[39m\u001b[32m/usr/local/lib/python3.11/site-packages/sqlalchemy/engine/base.py:1841\u001b[39m, in \u001b[36mConnection._execute_context\u001b[39m\u001b[34m(self, dialect, constructor, statement, parameters, execution_options, *args, **kw)\u001b[39m\n\u001b[32m   1838\u001b[39m context.pre_exec()\n\u001b[32m   1840\u001b[39m \u001b[38;5;28;01mif\u001b[39;00m context.execute_style \u001b[38;5;129;01mis\u001b[39;00m ExecuteStyle.INSERTMANYVALUES:\n\u001b[32m-> \u001b[39m\u001b[32m1841\u001b[39m     \u001b[38;5;28;01mreturn\u001b[39;00m \u001b[38;5;28;43mself\u001b[39;49m\u001b[43m.\u001b[49m\u001b[43m_exec_insertmany_context\u001b[49m\u001b[43m(\u001b[49m\u001b[43mdialect\u001b[49m\u001b[43m,\u001b[49m\u001b[43m \u001b[49m\u001b[43mcontext\u001b[49m\u001b[43m)\u001b[49m\n\u001b[32m   1842\u001b[39m \u001b[38;5;28;01melse\u001b[39;00m:\n\u001b[32m   1843\u001b[39m     \u001b[38;5;28;01mreturn\u001b[39;00m \u001b[38;5;28mself\u001b[39m._exec_single_context(\n\u001b[32m   1844\u001b[39m         dialect, context, statement, parameters\n\u001b[32m   1845\u001b[39m     )\n",
      "\u001b[36mFile \u001b[39m\u001b[32m/usr/local/lib/python3.11/site-packages/sqlalchemy/engine/base.py:2123\u001b[39m, in \u001b[36mConnection._exec_insertmany_context\u001b[39m\u001b[34m(self, dialect, context)\u001b[39m\n\u001b[32m   2115\u001b[39m         dialect.do_execute(\n\u001b[32m   2116\u001b[39m             cursor,\n\u001b[32m   2117\u001b[39m             sub_stmt,\n\u001b[32m   2118\u001b[39m             sub_params,\n\u001b[32m   2119\u001b[39m             context,\n\u001b[32m   2120\u001b[39m         )\n\u001b[32m   2122\u001b[39m \u001b[38;5;28;01mexcept\u001b[39;00m \u001b[38;5;167;01mBaseException\u001b[39;00m \u001b[38;5;28;01mas\u001b[39;00m e:\n\u001b[32m-> \u001b[39m\u001b[32m2123\u001b[39m     \u001b[38;5;28;43mself\u001b[39;49m\u001b[43m.\u001b[49m\u001b[43m_handle_dbapi_exception\u001b[49m\u001b[43m(\u001b[49m\n\u001b[32m   2124\u001b[39m \u001b[43m        \u001b[49m\u001b[43me\u001b[49m\u001b[43m,\u001b[49m\n\u001b[32m   2125\u001b[39m \u001b[43m        \u001b[49m\u001b[43msql_util\u001b[49m\u001b[43m.\u001b[49m\u001b[43m_long_statement\u001b[49m\u001b[43m(\u001b[49m\u001b[43msub_stmt\u001b[49m\u001b[43m)\u001b[49m\u001b[43m,\u001b[49m\n\u001b[32m   2126\u001b[39m \u001b[43m        \u001b[49m\u001b[43msub_params\u001b[49m\u001b[43m,\u001b[49m\n\u001b[32m   2127\u001b[39m \u001b[43m        \u001b[49m\u001b[43mcursor\u001b[49m\u001b[43m,\u001b[49m\n\u001b[32m   2128\u001b[39m \u001b[43m        \u001b[49m\u001b[43mcontext\u001b[49m\u001b[43m,\u001b[49m\n\u001b[32m   2129\u001b[39m \u001b[43m        \u001b[49m\u001b[43mis_sub_exec\u001b[49m\u001b[43m=\u001b[49m\u001b[38;5;28;43;01mTrue\u001b[39;49;00m\u001b[43m,\u001b[49m\n\u001b[32m   2130\u001b[39m \u001b[43m    \u001b[49m\u001b[43m)\u001b[49m\n\u001b[32m   2132\u001b[39m \u001b[38;5;28;01mif\u001b[39;00m engine_events:\n\u001b[32m   2133\u001b[39m     \u001b[38;5;28mself\u001b[39m.dispatch.after_cursor_execute(\n\u001b[32m   2134\u001b[39m         \u001b[38;5;28mself\u001b[39m,\n\u001b[32m   2135\u001b[39m         cursor,\n\u001b[32m   (...)\u001b[39m\u001b[32m   2139\u001b[39m         context.executemany,\n\u001b[32m   2140\u001b[39m     )\n",
      "\u001b[36mFile \u001b[39m\u001b[32m/usr/local/lib/python3.11/site-packages/sqlalchemy/engine/base.py:2352\u001b[39m, in \u001b[36mConnection._handle_dbapi_exception\u001b[39m\u001b[34m(self, e, statement, parameters, cursor, context, is_sub_exec)\u001b[39m\n\u001b[32m   2350\u001b[39m \u001b[38;5;28;01melif\u001b[39;00m should_wrap:\n\u001b[32m   2351\u001b[39m     \u001b[38;5;28;01massert\u001b[39;00m sqlalchemy_exception \u001b[38;5;129;01mis\u001b[39;00m \u001b[38;5;129;01mnot\u001b[39;00m \u001b[38;5;28;01mNone\u001b[39;00m\n\u001b[32m-> \u001b[39m\u001b[32m2352\u001b[39m     \u001b[38;5;28;01mraise\u001b[39;00m sqlalchemy_exception.with_traceback(exc_info[\u001b[32m2\u001b[39m]) \u001b[38;5;28;01mfrom\u001b[39;00m\u001b[38;5;250m \u001b[39m\u001b[34;01me\u001b[39;00m\n\u001b[32m   2353\u001b[39m \u001b[38;5;28;01melse\u001b[39;00m:\n\u001b[32m   2354\u001b[39m     \u001b[38;5;28;01massert\u001b[39;00m exc_info[\u001b[32m1\u001b[39m] \u001b[38;5;129;01mis\u001b[39;00m \u001b[38;5;129;01mnot\u001b[39;00m \u001b[38;5;28;01mNone\u001b[39;00m\n",
      "\u001b[36mFile \u001b[39m\u001b[32m/usr/local/lib/python3.11/site-packages/sqlalchemy/engine/base.py:2115\u001b[39m, in \u001b[36mConnection._exec_insertmany_context\u001b[39m\u001b[34m(self, dialect, context)\u001b[39m\n\u001b[32m   2113\u001b[39m             \u001b[38;5;28;01mbreak\u001b[39;00m\n\u001b[32m   2114\u001b[39m     \u001b[38;5;28;01melse\u001b[39;00m:\n\u001b[32m-> \u001b[39m\u001b[32m2115\u001b[39m         \u001b[43mdialect\u001b[49m\u001b[43m.\u001b[49m\u001b[43mdo_execute\u001b[49m\u001b[43m(\u001b[49m\n\u001b[32m   2116\u001b[39m \u001b[43m            \u001b[49m\u001b[43mcursor\u001b[49m\u001b[43m,\u001b[49m\n\u001b[32m   2117\u001b[39m \u001b[43m            \u001b[49m\u001b[43msub_stmt\u001b[49m\u001b[43m,\u001b[49m\n\u001b[32m   2118\u001b[39m \u001b[43m            \u001b[49m\u001b[43msub_params\u001b[49m\u001b[43m,\u001b[49m\n\u001b[32m   2119\u001b[39m \u001b[43m            \u001b[49m\u001b[43mcontext\u001b[49m\u001b[43m,\u001b[49m\n\u001b[32m   2120\u001b[39m \u001b[43m        \u001b[49m\u001b[43m)\u001b[49m\n\u001b[32m   2122\u001b[39m \u001b[38;5;28;01mexcept\u001b[39;00m \u001b[38;5;167;01mBaseException\u001b[39;00m \u001b[38;5;28;01mas\u001b[39;00m e:\n\u001b[32m   2123\u001b[39m     \u001b[38;5;28mself\u001b[39m._handle_dbapi_exception(\n\u001b[32m   2124\u001b[39m         e,\n\u001b[32m   2125\u001b[39m         sql_util._long_statement(sub_stmt),\n\u001b[32m   (...)\u001b[39m\u001b[32m   2129\u001b[39m         is_sub_exec=\u001b[38;5;28;01mTrue\u001b[39;00m,\n\u001b[32m   2130\u001b[39m     )\n",
      "\u001b[36mFile \u001b[39m\u001b[32m/usr/local/lib/python3.11/site-packages/sqlalchemy/engine/default.py:945\u001b[39m, in \u001b[36mDefaultDialect.do_execute\u001b[39m\u001b[34m(self, cursor, statement, parameters, context)\u001b[39m\n\u001b[32m    944\u001b[39m \u001b[38;5;28;01mdef\u001b[39;00m\u001b[38;5;250m \u001b[39m\u001b[34mdo_execute\u001b[39m(\u001b[38;5;28mself\u001b[39m, cursor, statement, parameters, context=\u001b[38;5;28;01mNone\u001b[39;00m):\n\u001b[32m--> \u001b[39m\u001b[32m945\u001b[39m     \u001b[43mcursor\u001b[49m\u001b[43m.\u001b[49m\u001b[43mexecute\u001b[49m\u001b[43m(\u001b[49m\u001b[43mstatement\u001b[49m\u001b[43m,\u001b[49m\u001b[43m \u001b[49m\u001b[43mparameters\u001b[49m\u001b[43m)\u001b[49m\n",
      "\u001b[31mProgrammingError\u001b[39m: (psycopg2.errors.UndefinedTable) relation \"crypto_prices\" does not exist\nLINE 1: INSERT INTO crypto_prices (price_usd, timestamp) VALUES (830...\n                    ^\n\n[SQL: INSERT INTO crypto_prices (price_usd, timestamp) VALUES (%(price_usd__0)s, %(timestamp__0)s), (%(price_usd__1)s, %(timestamp__1)s), (%(price_usd__2)s, %(timestamp__2)s), (%(price_usd__3)s, %(timestamp__3)s), (%(price_usd__4)s, %(timestamp__4)s), (%(p ... 8682 characters truncated ... imestamp__216)s), (%(price_usd__217)s, %(timestamp__217)s), (%(price_usd__218)s, %(timestamp__218)s)]\n[parameters: {'timestamp__0': datetime.datetime(2025, 4, 4, 1, 4, 43, 728000), 'price_usd__0': 83029.72559074209, 'timestamp__1': datetime.datetime(2025, 4, 4, 2, 4, 47, 660000), 'price_usd__1': 82676.67638736672, 'timestamp__2': datetime.datetime(2025, 4, 4, 3, 4, 33, 317000), 'price_usd__2': 82870.73001816859, 'timestamp__3': datetime.datetime(2025, 4, 4, 4, 4, 43, 226000), 'price_usd__3': 82793.26810143121, 'timestamp__4': datetime.datetime(2025, 4, 4, 5, 4, 52, 661000), 'price_usd__4': 82709.74394735025, 'timestamp__5': datetime.datetime(2025, 4, 4, 6, 8, 4, 340000), 'price_usd__5': 83155.70194321594, 'timestamp__6': datetime.datetime(2025, 4, 4, 7, 4, 33, 552000), 'price_usd__6': 83064.77766424145, 'timestamp__7': datetime.datetime(2025, 4, 4, 8, 4, 50, 551000), 'price_usd__7': 84003.03159736587, 'timestamp__8': datetime.datetime(2025, 4, 4, 9, 4, 49, 47000), 'price_usd__8': 84375.94429798229, 'timestamp__9': datetime.datetime(2025, 4, 4, 10, 4, 35, 357000), 'price_usd__9': 84613.64673947358, 'timestamp__10': datetime.datetime(2025, 4, 4, 11, 4, 36, 527000), 'price_usd__10': 82548.3231829159, 'timestamp__11': datetime.datetime(2025, 4, 4, 12, 2, 51, 787000), 'price_usd__11': 82701.99933626983, 'timestamp__12': datetime.datetime(2025, 4, 4, 13, 2, 3, 133000), 'price_usd__12': 82809.93939073119, 'timestamp__13': datetime.datetime(2025, 4, 4, 14, 9, 32, 286000), 'price_usd__13': 83238.43488678202, 'timestamp__14': datetime.datetime(2025, 4, 4, 15, 9, 36, 258000), 'price_usd__14': 83111.34435575195, 'timestamp__15': datetime.datetime(2025, 4, 4, 16, 5, 0, 114000), 'price_usd__15': 82881.13400156828, 'timestamp__16': datetime.datetime(2025, 4, 4, 17, 4, 54, 284000), 'price_usd__16': 83345.06970919853, 'timestamp__17': datetime.datetime(2025, 4, 4, 18, 3, 53, 933000), 'price_usd__17': 84430.20296834389, 'timestamp__18': datetime.datetime(2025, 4, 4, 19, 4, 58, 705000), 'price_usd__18': 83881.50017713505, 'timestamp__19': datetime.datetime(2025, 4, 4, 20, 4, 40, 257000), 'price_usd__19': 84003.03688086948, 'timestamp__20': datetime.datetime(2025, 4, 4, 21, 7, 1, 180000), 'price_usd__20': 83997.83057459719, 'timestamp__21': datetime.datetime(2025, 4, 4, 22, 4, 52, 147000), 'price_usd__21': 84162.25073278768, 'timestamp__22': datetime.datetime(2025, 4, 4, 23, 4, 43, 435000), 'price_usd__22': 84032.71900547225, 'timestamp__23': datetime.datetime(2025, 4, 5, 0, 6, 50, 663000), 'price_usd__23': 83733.5293123474, 'timestamp__24': datetime.datetime(2025, 4, 5, 1, 4, 30, 834000), 'price_usd__24': 83784.56595678756 ... 338 parameters truncated ... 'timestamp__194': datetime.datetime(2025, 4, 6, 1, 4, 54, 194000), 'price_usd__194': 0.16925401013754543, 'timestamp__195': datetime.datetime(2025, 4, 6, 2, 4, 53, 818000), 'price_usd__195': 0.1686775276424901, 'timestamp__196': datetime.datetime(2025, 4, 6, 3, 1, 56, 433000), 'price_usd__196': 0.16752190559963703, 'timestamp__197': datetime.datetime(2025, 4, 6, 4, 4, 48, 628000), 'price_usd__197': 0.16768421052676932, 'timestamp__198': datetime.datetime(2025, 4, 6, 5, 4, 39, 916000), 'price_usd__198': 0.16744460311247122, 'timestamp__199': datetime.datetime(2025, 4, 6, 6, 4, 54, 640000), 'price_usd__199': 0.16773637883171222, 'timestamp__200': datetime.datetime(2025, 4, 6, 7, 4, 43, 912000), 'price_usd__200': 0.16619159481820758, 'timestamp__201': datetime.datetime(2025, 4, 6, 8, 4, 44, 23000), 'price_usd__201': 0.16495893579565452, 'timestamp__202': datetime.datetime(2025, 4, 6, 9, 4, 57, 498000), 'price_usd__202': 0.16536109835362833, 'timestamp__203': datetime.datetime(2025, 4, 6, 10, 4, 50, 570000), 'price_usd__203': 0.1647426878082025, 'timestamp__204': datetime.datetime(2025, 4, 6, 11, 2, 17, 697000), 'price_usd__204': 0.16426796082208053, 'timestamp__205': datetime.datetime(2025, 4, 6, 12, 4, 31, 691000), 'price_usd__205': 0.16431674948060584, 'timestamp__206': datetime.datetime(2025, 4, 6, 13, 4, 41, 569000), 'price_usd__206': 0.16289516273791665, 'timestamp__207': datetime.datetime(2025, 4, 6, 14, 4, 52, 643000), 'price_usd__207': 0.16017563569102958, 'timestamp__208': datetime.datetime(2025, 4, 6, 15, 4, 38, 742000), 'price_usd__208': 0.16227578886478997, 'timestamp__209': datetime.datetime(2025, 4, 6, 16, 4, 41, 727000), 'price_usd__209': 0.16207226065447983, 'timestamp__210': datetime.datetime(2025, 4, 6, 17, 4, 56, 739000), 'price_usd__210': 0.1605511127726386, 'timestamp__211': datetime.datetime(2025, 4, 6, 18, 9, 47, 412000), 'price_usd__211': 0.15640621578660419, 'timestamp__212': datetime.datetime(2025, 4, 6, 19, 9, 34, 411000), 'price_usd__212': 0.15207910537598826, 'timestamp__213': datetime.datetime(2025, 4, 6, 20, 8, 8, 533000), 'price_usd__213': 0.152801821682788, 'timestamp__214': datetime.datetime(2025, 4, 6, 21, 4, 39, 191000), 'price_usd__214': 0.1499289139830785, 'timestamp__215': datetime.datetime(2025, 4, 6, 22, 4, 55, 754000), 'price_usd__215': 0.15052912789931022, 'timestamp__216': datetime.datetime(2025, 4, 6, 23, 9, 23), 'price_usd__216': 0.14813517280019836, 'timestamp__217': datetime.datetime(2025, 4, 7, 0, 5, 0, 618000), 'price_usd__217': 0.1491294911827007, 'timestamp__218': datetime.datetime(2025, 4, 7, 0, 38, 2), 'price_usd__218': 0.14765226451922758}]\n(Background on this error at: https://sqlalche.me/e/20/f405)"
     ]
    }
   ],
   "source": [
    "from ingest_data import fetch_and_store_all\n",
    "fetch_and_store_all()"
   ]
  },
  {
   "cell_type": "code",
   "execution_count": null,
   "id": "abe5cb00-56ae-4246-8ff6-2cb3017b0855",
   "metadata": {},
   "outputs": [],
   "source": []
  }
 ],
 "metadata": {
  "kernelspec": {
   "display_name": "Python 3 (ipykernel)",
   "language": "python",
   "name": "python3"
  },
  "language_info": {
   "codemirror_mode": {
    "name": "ipython",
    "version": 3
   },
   "file_extension": ".py",
   "mimetype": "text/x-python",
   "name": "python",
   "nbconvert_exporter": "python",
   "pygments_lexer": "ipython3",
   "version": "3.11.4"
  }
 },
 "nbformat": 4,
 "nbformat_minor": 5
}
