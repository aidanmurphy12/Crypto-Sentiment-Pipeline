{
 "cells": [
  {
   "cell_type": "code",
   "execution_count": 1,
   "id": "ffecbb54-f236-49b8-bbe4-73739ff9a9f7",
   "metadata": {},
   "outputs": [],
   "source": [
    "%load_ext autoreload\n",
    "%autoreload 2"
   ]
  },
  {
   "cell_type": "code",
   "execution_count": 2,
   "id": "c2eb0602-8641-42c7-a5f2-9ab3a415a1c3",
   "metadata": {},
   "outputs": [],
   "source": [
    "import sys\n",
    "sys.path.append('/app')"
   ]
  },
  {
   "cell_type": "code",
   "execution_count": 3,
   "id": "ab33d2ed-cddd-4130-9e05-cf33593942a5",
   "metadata": {},
   "outputs": [
    {
     "name": "stdout",
     "output_type": "stream",
     "text": [
      "Fetching BTC...\n",
      "Fetching ETH...\n",
      "Fetching DOGE...\n",
      "Inserted 219 rows into crypto_prices.\n"
     ]
    }
   ],
   "source": [
    "from ingest_data import fetch_and_store_all\n",
    "fetch_and_store_all()"
   ]
  },
  {
   "cell_type": "code",
   "execution_count": null,
   "id": "abe5cb00-56ae-4246-8ff6-2cb3017b0855",
   "metadata": {},
   "outputs": [],
   "source": []
  }
 ],
 "metadata": {
  "kernelspec": {
   "display_name": "Python 3 (ipykernel)",
   "language": "python",
   "name": "python3"
  },
  "language_info": {
   "codemirror_mode": {
    "name": "ipython",
    "version": 3
   },
   "file_extension": ".py",
   "mimetype": "text/x-python",
   "name": "python",
   "nbconvert_exporter": "python",
   "pygments_lexer": "ipython3",
   "version": "3.11.4"
  }
 },
 "nbformat": 4,
 "nbformat_minor": 5
}
