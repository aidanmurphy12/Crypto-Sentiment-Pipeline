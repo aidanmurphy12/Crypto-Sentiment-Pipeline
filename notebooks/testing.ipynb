{
 "cells": [
  {
   "cell_type": "code",
   "execution_count": 4,
   "id": "3233f93e-ac23-45c4-8ef7-adc3263c1a17",
   "metadata": {},
   "outputs": [],
   "source": [
    "import sys\n",
    "sys.path.append('/app')"
   ]
  },
  {
   "cell_type": "code",
   "execution_count": 6,
   "id": "1ddbb9cf-5206-469e-bbd4-17b2183d5986",
   "metadata": {},
   "outputs": [
    {
     "name": "stdout",
     "output_type": "stream",
     "text": [
      "✅ Table created\n",
      "Inserted 10 rows into crypto_prices.\n"
     ]
    }
   ],
   "source": [
    "from ingest_data import fetch_and_store_prices\n",
    "\n",
    "fetch_and_store_prices()"
   ]
  },
  {
   "cell_type": "code",
   "execution_count": 7,
   "id": "93cdd40a-756a-42a8-9bcc-ebdb17ffa1a0",
   "metadata": {},
   "outputs": [
    {
     "data": {
      "text/html": [
       "<div>\n",
       "<style scoped>\n",
       "    .dataframe tbody tr th:only-of-type {\n",
       "        vertical-align: middle;\n",
       "    }\n",
       "\n",
       "    .dataframe tbody tr th {\n",
       "        vertical-align: top;\n",
       "    }\n",
       "\n",
       "    .dataframe thead th {\n",
       "        text-align: right;\n",
       "    }\n",
       "</style>\n",
       "<table border=\"1\" class=\"dataframe\">\n",
       "  <thead>\n",
       "    <tr style=\"text-align: right;\">\n",
       "      <th></th>\n",
       "      <th>id</th>\n",
       "      <th>symbol</th>\n",
       "      <th>name</th>\n",
       "      <th>price_usd</th>\n",
       "      <th>timestamp</th>\n",
       "    </tr>\n",
       "  </thead>\n",
       "  <tbody>\n",
       "    <tr>\n",
       "      <th>0</th>\n",
       "      <td>10</td>\n",
       "      <td>TRX</td>\n",
       "      <td>TRON</td>\n",
       "      <td>0.237911</td>\n",
       "      <td>2025-04-05 20:13:10.889511</td>\n",
       "    </tr>\n",
       "    <tr>\n",
       "      <th>1</th>\n",
       "      <td>9</td>\n",
       "      <td>ADA</td>\n",
       "      <td>Cardano</td>\n",
       "      <td>0.647468</td>\n",
       "      <td>2025-04-05 20:13:10.889510</td>\n",
       "    </tr>\n",
       "    <tr>\n",
       "      <th>2</th>\n",
       "      <td>8</td>\n",
       "      <td>DOGE</td>\n",
       "      <td>Dogecoin</td>\n",
       "      <td>0.167854</td>\n",
       "      <td>2025-04-05 20:13:10.889509</td>\n",
       "    </tr>\n",
       "    <tr>\n",
       "      <th>3</th>\n",
       "      <td>7</td>\n",
       "      <td>USDC</td>\n",
       "      <td>USDC</td>\n",
       "      <td>0.999919</td>\n",
       "      <td>2025-04-05 20:13:10.889506</td>\n",
       "    </tr>\n",
       "    <tr>\n",
       "      <th>4</th>\n",
       "      <td>6</td>\n",
       "      <td>SOL</td>\n",
       "      <td>Solana</td>\n",
       "      <td>118.900000</td>\n",
       "      <td>2025-04-05 20:13:10.889505</td>\n",
       "    </tr>\n",
       "  </tbody>\n",
       "</table>\n",
       "</div>"
      ],
      "text/plain": [
       "   id symbol      name   price_usd                  timestamp\n",
       "0  10    TRX      TRON    0.237911 2025-04-05 20:13:10.889511\n",
       "1   9    ADA   Cardano    0.647468 2025-04-05 20:13:10.889510\n",
       "2   8   DOGE  Dogecoin    0.167854 2025-04-05 20:13:10.889509\n",
       "3   7   USDC      USDC    0.999919 2025-04-05 20:13:10.889506\n",
       "4   6    SOL    Solana  118.900000 2025-04-05 20:13:10.889505"
      ]
     },
     "execution_count": 7,
     "metadata": {},
     "output_type": "execute_result"
    }
   ],
   "source": [
    "import pandas as pd\n",
    "from db_utils import get_engine\n",
    "\n",
    "engine = get_engine()\n",
    "\n",
    "df = pd.read_sql(\"SELECT * FROM crypto_prices ORDER BY timestamp DESC LIMIT 20\", con=engine)\n",
    "df.head()"
   ]
  },
  {
   "cell_type": "code",
   "execution_count": 3,
   "id": "1d0e1450-0e0d-45ee-bfbf-416a5cfc8447",
   "metadata": {},
   "outputs": [
    {
     "name": "stdout",
     "output_type": "stream",
     "text": [
      "Inserted 3 sentiment scores into sentiment_data.\n"
     ]
    }
   ],
   "source": [
    "import sys\n",
    "sys.path.append('/app')\n",
    "\n",
    "from sentiment import analyze_and_store\n",
    "analyze_and_store([\n",
    "    {\"source\": \"reddit\", \"coin\": \"BTC\", \"text\": \"Bitcoin is exploding today 🚀\"},\n",
    "    {\"source\": \"reddit\", \"coin\": \"ETH\", 