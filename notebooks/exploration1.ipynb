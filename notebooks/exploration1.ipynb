{
 "cells": [
  {
   "cell_type": "code",
   "execution_count": 8,
   "metadata": {},
   "outputs": [
    {
     "name": "stdout",
     "output_type": "stream",
     "text": [
      "Connected to: PostgreSQL 15.12 (Debian 15.12-1.pgdg120+1) on aarch64-unknown-linux-gnu, compiled by gcc (Debian 12.2.0-14) 12.2.0, 64-bit\n"
     ]
    }
   ],
   "source": [
    "import sys\n",
    "from sqlalchemy import text\n",
    "\n",
    "sys.path.append(\"/app\")  # So you can import code from the Docker-mounted /app folder\n",
    "\n",
    "from db_utils import test_connection\n",
    "\n",
    "# Test the connection\n",
    "test_connection()\n"
   ]
  },
  {
   "cell_type": "code",
   "execution_count": 9,
   "metadata": {},
   "outputs": [
    {
     "name": "stdout",
     "output_type": "stream",
     "text": [
      "Connected to DB: mydb\n"
     ]
    }
   ],
   "source": [
    "from db_utils import get_engine\n",
    "engine = get_engine()\n",
    "\n",
    "with engine.connect() as conn:\n",
    "    result = conn.execute(text(\"SELECT current_database();\"))\n",
    "    print(\"Connected to DB:\", result.fetchone()[0])"
   ]
  },
  {
   "cell_type": "code",
   "execution_count": 12,
   "metadata": {},
   "outputs": [
    {
     "name": "stdout",
     "output_type": "stream",
     "text": [
      "Tables in database:\n",
      "- crypto_prices\n"
     ]
    }
   ],
   "source": [
    "from sqlalchemy import text\n",
    "\n",
    "with engine.connect() as conn:\n",
    "    result = conn.execute(text(\"\"\"\n",
    "        SELECT table_name \n",
    "        FROM information_schema.tables \n",
    "        WHERE table_schema = 'public';\n",
    "    \"\"\"))\n",
    "    print(\"Tables in database:\")\n",
    "    for row in result:\n",
    "        print(\"-\", row[0])\n"
   ]
  },
  {
   "cell_type": "code",
   "execution_count": 11,
   "metadata": {},
   "outputs": [
    {
     "name": "stdout",
     "output_type": "stream",
     "text": [
      "✅ Table created\n"
     ]
    }
   ],
   "source": [
    "from sqlalchemy import create_engine, MetaData, Table, Column, Integer, String, Float, DateTime, text\n",
    "from datetime import datetime\n",
    "from db_utils import get_engine\n",
    "\n",
    "engine = get_engine()\n",
    "metadata = MetaData()\n",
    "\n",
    "crypto_prices = Table(\n",
    "    \"crypto_prices\", metadata,\n",
    "    Column(\"id\", Integer, primary_key=True),\n",
    "    Column(\"symbol\", String),\n",
    "    Column(\"name\", String),\n",
    "    Column(\"price_usd\", Float),\n",
    "    Column(\"timestamp\", DateTime, default=datetime.utcnow)\n",
    ")\n",
    "\n",
    "metadata.create_all(engine)\n",
    "print(\"✅ Table created\")\n"
   ]
  }
 ],
 "metadata": {
  "kernelspec": {
   "display_name": "Python 3 (ipykernel)",
   "language": "python",
   "name": "python3"
  },
  "language_info": {
   "codemirror_mode": {
    "name": "ipython",
    "version": 3
   },
   "file_extension": ".py",
   "mimetype": "text/x-python",
   "name": "python",
   "nbconvert_exporter": "python",
   "pygments_lexer": "ipython3",
   "version": "3.11.4"
  }
 },
 "nbformat": 4,
 "nbformat_minor": 4
}
